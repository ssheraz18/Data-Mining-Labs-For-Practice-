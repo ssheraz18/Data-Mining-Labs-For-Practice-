{
  "cells": [
    {
      "cell_type": "markdown",
      "metadata": {
        "id": "YsGziBO5wMgX"
      },
      "source": [
        "“Ensemble” is a technique where multiple models are combined to improve the overall\n",
        "performance of a system. The basic idea is that by combining the predictions of multiple models,\n",
        "the strengths of individual models can compensate for each other's weaknesses, leading to more\n",
        "accurate and robust predictions.\n",
        "There are several types of ensemble methods, including:\n",
        "1. Bagging (Bootstrap Aggregating):\n",
        "This method involves training multiple instances of the same base learning algorithm on\n",
        "different subsets of the training data (sampled with replacement) and then combining\n",
        "their predictions. Random Forest is a popular example of a bagging ensemble algorithm.\n",
        "2. Boosting:\n",
        "Boosting algorithms iteratively train weak learners (models that are only slightly better\n",
        "than random guessing) and give more weight to misclassified instances in subsequent\n",
        "iterations, focusing on the areas where previous models performed poorly. Examples of\n",
        "boosting algorithms include AdaBoost and Gradient Boosting Machines (GBM).\n",
        "3. Stacking:\n",
        "Stacking, also known as stacked generalization, involves training a meta-model (often a\n",
        "simple model like linear regression) on the predictions of several base models. The meta-\n",
        "model learns to combine the predictions of the base models to make the final prediction.\n",
        "\n",
        "4. Voting:\n",
        "In this, multiple models make predictions independently, and the final prediction is\n",
        "determined by a majority vote (for classification tasks) or averaging (for regression tasks)\n",
        "of the individual predictions.\n",
        "\n",
        "In this lab, you will learn to perform sentiment analysis on a dataset of Airbnb’s dataset using\n",
        "ensemble methods. You will explore techniques such as bagging, boosting, and stacking to\n",
        "improve the accuracy of sentiment classification."
      ]
    },
    {
      "cell_type": "markdown",
      "metadata": {
        "id": "QzOZ86bowMga"
      },
      "source": [
        "You have been given some sample codes, you are to use them and make your own code from\n",
        "scratch to perform the following tasks:\n",
        "1. Data Preprocessing:\n",
        "\n",
        "• Load the dataset.\n",
        "\n",
        "• Preprocess the text data by removing stopwords, punctuation, and performing\n",
        "tokenization.\n",
        "\n",
        "• Convert the text data into numerical features using techniques like TF-IDF or\n",
        "CountVectorizer.\n",
        "\n",
        "2. Model Training:\n",
        "\n",
        "• Train individual base models using different algorithms such as Naive Bayes, Decision\n",
        "Trees, and Support Vector Machines (SVM).\n",
        "\n",
        "• Implement ensemble techniques:\n",
        "\n",
        "o Bagging: Train a Random Forest classifier.\n",
        "\n",
        "o Boosting: Train an AdaBoost classifier.\n",
        "\n",
        "o Stacking: Train a meta-model using predictions from base models.\n",
        "\n",
        "3. Model Evaluation:\n",
        "\n",
        "• Evaluate the performance of each base model and ensemble methods using metrics such\n",
        "as accuracy, precision, recall, and F1-score.\n",
        "\n",
        "• Visualize the performance metrics using plots like confusion matrix and ROC curve.\n",
        "\n",
        "4. Analysis:\n",
        "\n",
        "• Compare the performance of individual models with ensemble methods.\n",
        "\n",
        "• Discuss the strengths and weaknesses of each approach.\n",
        "\n",
        "• Explore potential improvements or modifications to the ensemble methods."
      ]
    },
    {
      "cell_type": "code",
      "execution_count": null,
      "metadata": {
        "colab": {
          "base_uri": "https://localhost:8080/",
          "height": 573
        },
        "id": "4wp8X-UYwMga",
        "outputId": "043a12c1-2841-45a5-cf76-585182cf4c0e"
      },
      "outputs": [
        {
          "output_type": "execute_result",
          "data": {
            "text/plain": [
              "   Unnamed: 0  reviews  savwish  logreviews  logsavwish  price  rating  \\\n",
              "0           1       10     1277    1.041393    3.106531    185     4.5   \n",
              "1           2        8      279    0.954243    2.447158    100     5.0   \n",
              "2           3       31      434    1.505150    2.638489    512     5.0   \n",
              "3           4       65      784    1.819544    2.894870     92     4.5   \n",
              "4           5        9      621    1.000000    2.793790     71     4.5   \n",
              "\n",
              "   accommodates  extpeop  min_stay  sentiment  secdep  cleanfee  weekfee  \\\n",
              "0             3        1         5   3.208943       1         1        1   \n",
              "1             2        0         3   2.245883       0         0        0   \n",
              "2            10        1         3   2.509137       1         0        1   \n",
              "3             2        0         2   2.864322       0         0        1   \n",
              "4             4        1         1   1.892305       1         1        0   \n",
              "\n",
              "   monthfee  bedroom  bathroom  beds  \\\n",
              "0         1        1         1     1   \n",
              "1         0        1         1     1   \n",
              "2         1        4         3     5   \n",
              "3         1        1         1     1   \n",
              "4         0        2         1     1   \n",
              "\n",
              "                                         review_text  \n",
              "0  Even if i stayed at another apartment the stay...  \n",
              "1  Exactly what you can see on the pictures, plus...  \n",
              "2  We were five colleagues staying in Lea's apart...  \n",
              "3  It was perfect! The location is great, easy to...  \n",
              "4  Saras flat is nice and clean, she was the perf...  "
            ],
            "text/html": [
              "\n",
              "  <div id=\"df-85bc1796-b90b-4848-9d3d-b27a799ac483\" class=\"colab-df-container\">\n",
              "    <div>\n",
              "<style scoped>\n",
              "    .dataframe tbody tr th:only-of-type {\n",
              "        vertical-align: middle;\n",
              "    }\n",
              "\n",
              "    .dataframe tbody tr th {\n",
              "        vertical-align: top;\n",
              "    }\n",
              "\n",
              "    .dataframe thead th {\n",
              "        text-align: right;\n",
              "    }\n",
              "</style>\n",
              "<table border=\"1\" class=\"dataframe\">\n",
              "  <thead>\n",
              "    <tr style=\"text-align: right;\">\n",
              "      <th></th>\n",
              "      <th>Unnamed: 0</th>\n",
              "      <th>reviews</th>\n",
              "      <th>savwish</th>\n",
              "      <th>logreviews</th>\n",
              "      <th>logsavwish</th>\n",
              "      <th>price</th>\n",
              "      <th>rating</th>\n",
              "      <th>accommodates</th>\n",
              "      <th>extpeop</th>\n",
              "      <th>min_stay</th>\n",
              "      <th>sentiment</th>\n",
              "      <th>secdep</th>\n",
              "      <th>cleanfee</th>\n",
              "      <th>weekfee</th>\n",
              "      <th>monthfee</th>\n",
              "      <th>bedroom</th>\n",
              "      <th>bathroom</th>\n",
              "      <th>beds</th>\n",
              "      <th>review_text</th>\n",
              "    </tr>\n",
              "  </thead>\n",
              "  <tbody>\n",
              "    <tr>\n",
              "      <th>0</th>\n",
              "      <td>1</td>\n",
              "      <td>10</td>\n",
              "      <td>1277</td>\n",
              "      <td>1.041393</td>\n",
              "      <td>3.106531</td>\n",
              "      <td>185</td>\n",
              "      <td>4.5</td>\n",
              "      <td>3</td>\n",
              "      <td>1</td>\n",
              "      <td>5</td>\n",
              "      <td>3.208943</td>\n",
              "      <td>1</td>\n",
              "      <td>1</td>\n",
              "      <td>1</td>\n",
              "      <td>1</td>\n",
              "      <td>1</td>\n",
              "      <td>1</td>\n",
              "      <td>1</td>\n",
              "      <td>Even if i stayed at another apartment the stay...</td>\n",
              "    </tr>\n",
              "    <tr>\n",
              "      <th>1</th>\n",
              "      <td>2</td>\n",
              "      <td>8</td>\n",
              "      <td>279</td>\n",
              "      <td>0.954243</td>\n",
              "      <td>2.447158</td>\n",
              "      <td>100</td>\n",
              "      <td>5.0</td>\n",
              "      <td>2</td>\n",
              "      <td>0</td>\n",
              "      <td>3</td>\n",
              "      <td>2.245883</td>\n",
              "      <td>0</td>\n",
              "      <td>0</td>\n",
              "      <td>0</td>\n",
              "      <td>0</td>\n",
              "      <td>1</td>\n",
              "      <td>1</td>\n",
              "      <td>1</td>\n",
              "      <td>Exactly what you can see on the pictures, plus...</td>\n",
              "    </tr>\n",
              "    <tr>\n",
              "      <th>2</th>\n",
              "      <td>3</td>\n",
              "      <td>31</td>\n",
              "      <td>434</td>\n",
              "      <td>1.505150</td>\n",
              "      <td>2.638489</td>\n",
              "      <td>512</td>\n",
              "      <td>5.0</td>\n",
              "      <td>10</td>\n",
              "      <td>1</td>\n",
              "      <td>3</td>\n",
              "      <td>2.509137</td>\n",
              "      <td>1</td>\n",
              "      <td>0</td>\n",
              "      <td>1</td>\n",
              "      <td>1</td>\n",
              "      <td>4</td>\n",
              "      <td>3</td>\n",
              "      <td>5</td>\n",
              "      <td>We were five colleagues staying in Lea's apart...</td>\n",
              "    </tr>\n",
              "    <tr>\n",
              "      <th>3</th>\n",
              "      <td>4</td>\n",
              "      <td>65</td>\n",
              "      <td>784</td>\n",
              "      <td>1.819544</td>\n",
              "      <td>2.894870</td>\n",
              "      <td>92</td>\n",
              "      <td>4.5</td>\n",
              "      <td>2</td>\n",
              "      <td>0</td>\n",
              "      <td>2</td>\n",
              "      <td>2.864322</td>\n",
              "      <td>0</td>\n",
              "      <td>0</td>\n",
              "      <td>1</td>\n",
              "      <td>1</td>\n",
              "      <td>1</td>\n",
              "      <td>1</td>\n",
              "      <td>1</td>\n",
              "      <td>It was perfect! The location is great, easy to...</td>\n",
              "    </tr>\n",
              "    <tr>\n",
              "      <th>4</th>\n",
              "      <td>5</td>\n",
              "      <td>9</td>\n",
              "      <td>621</td>\n",
              "      <td>1.000000</td>\n",
              "      <td>2.793790</td>\n",
              "      <td>71</td>\n",
              "      <td>4.5</td>\n",
              "      <td>4</td>\n",
              "      <td>1</td>\n",
              "      <td>1</td>\n",
              "      <td>1.892305</td>\n",
              "      <td>1</td>\n",
              "      <td>1</td>\n",
              "      <td>0</td>\n",
              "      <td>0</td>\n",
              "      <td>2</td>\n",
              "      <td>1</td>\n",
              "      <td>1</td>\n",
              "      <td>Saras flat is nice and clean, she was the perf...</td>\n",
              "    </tr>\n",
              "  </tbody>\n",
              "</table>\n",
              "</div>\n",
              "    <div class=\"colab-df-buttons\">\n",
              "\n",
              "  <div class=\"colab-df-container\">\n",
              "    <button class=\"colab-df-convert\" onclick=\"convertToInteractive('df-85bc1796-b90b-4848-9d3d-b27a799ac483')\"\n",
              "            title=\"Convert this dataframe to an interactive table.\"\n",
              "            style=\"display:none;\">\n",
              "\n",
              "  <svg xmlns=\"http://www.w3.org/2000/svg\" height=\"24px\" viewBox=\"0 -960 960 960\">\n",
              "    <path d=\"M120-120v-720h720v720H120Zm60-500h600v-160H180v160Zm220 220h160v-160H400v160Zm0 220h160v-160H400v160ZM180-400h160v-160H180v160Zm440 0h160v-160H620v160ZM180-180h160v-160H180v160Zm440 0h160v-160H620v160Z\"/>\n",
              "  </svg>\n",
              "    </button>\n",
              "\n",
              "  <style>\n",
              "    .colab-df-container {\n",
              "      display:flex;\n",
              "      gap: 12px;\n",
              "    }\n",
              "\n",
              "    .colab-df-convert {\n",
              "      background-color: #E8F0FE;\n",
              "      border: none;\n",
              "      border-radius: 50%;\n",
              "      cursor: pointer;\n",
              "      display: none;\n",
              "      fill: #1967D2;\n",
              "      height: 32px;\n",
              "      padding: 0 0 0 0;\n",
              "      width: 32px;\n",
              "    }\n",
              "\n",
              "    .colab-df-convert:hover {\n",
              "      background-color: #E2EBFA;\n",
              "      box-shadow: 0px 1px 2px rgba(60, 64, 67, 0.3), 0px 1px 3px 1px rgba(60, 64, 67, 0.15);\n",
              "      fill: #174EA6;\n",
              "    }\n",
              "\n",
              "    .colab-df-buttons div {\n",
              "      margin-bottom: 4px;\n",
              "    }\n",
              "\n",
              "    [theme=dark] .colab-df-convert {\n",
              "      background-color: #3B4455;\n",
              "      fill: #D2E3FC;\n",
              "    }\n",
              "\n",
              "    [theme=dark] .colab-df-convert:hover {\n",
              "      background-color: #434B5C;\n",
              "      box-shadow: 0px 1px 3px 1px rgba(0, 0, 0, 0.15);\n",
              "      filter: drop-shadow(0px 1px 2px rgba(0, 0, 0, 0.3));\n",
              "      fill: #FFFFFF;\n",
              "    }\n",
              "  </style>\n",
              "\n",
              "    <script>\n",
              "      const buttonEl =\n",
              "        document.querySelector('#df-85bc1796-b90b-4848-9d3d-b27a799ac483 button.colab-df-convert');\n",
              "      buttonEl.style.display =\n",
              "        google.colab.kernel.accessAllowed ? 'block' : 'none';\n",
              "\n",
              "      async function convertToInteractive(key) {\n",
              "        const element = document.querySelector('#df-85bc1796-b90b-4848-9d3d-b27a799ac483');\n",
              "        const dataTable =\n",
              "          await google.colab.kernel.invokeFunction('convertToInteractive',\n",
              "                                                    [key], {});\n",
              "        if (!dataTable) return;\n",
              "\n",
              "        const docLinkHtml = 'Like what you see? Visit the ' +\n",
              "          '<a target=\"_blank\" href=https://colab.research.google.com/notebooks/data_table.ipynb>data table notebook</a>'\n",
              "          + ' to learn more about interactive tables.';\n",
              "        element.innerHTML = '';\n",
              "        dataTable['output_type'] = 'display_data';\n",
              "        await google.colab.output.renderOutput(dataTable, element);\n",
              "        const docLink = document.createElement('div');\n",
              "        docLink.innerHTML = docLinkHtml;\n",
              "        element.appendChild(docLink);\n",
              "      }\n",
              "    </script>\n",
              "  </div>\n",
              "\n",
              "\n",
              "<div id=\"df-a55abc53-1081-4179-a455-ae068740f35c\">\n",
              "  <button class=\"colab-df-quickchart\" onclick=\"quickchart('df-a55abc53-1081-4179-a455-ae068740f35c')\"\n",
              "            title=\"Suggest charts\"\n",
              "            style=\"display:none;\">\n",
              "\n",
              "<svg xmlns=\"http://www.w3.org/2000/svg\" height=\"24px\"viewBox=\"0 0 24 24\"\n",
              "     width=\"24px\">\n",
              "    <g>\n",
              "        <path d=\"M19 3H5c-1.1 0-2 .9-2 2v14c0 1.1.9 2 2 2h14c1.1 0 2-.9 2-2V5c0-1.1-.9-2-2-2zM9 17H7v-7h2v7zm4 0h-2V7h2v10zm4 0h-2v-4h2v4z\"/>\n",
              "    </g>\n",
              "</svg>\n",
              "  </button>\n",
              "\n",
              "<style>\n",
              "  .colab-df-quickchart {\n",
              "      --bg-color: #E8F0FE;\n",
              "      --fill-color: #1967D2;\n",
              "      --hover-bg-color: #E2EBFA;\n",
              "      --hover-fill-color: #174EA6;\n",
              "      --disabled-fill-color: #AAA;\n",
              "      --disabled-bg-color: #DDD;\n",
              "  }\n",
              "\n",
              "  [theme=dark] .colab-df-quickchart {\n",
              "      --bg-color: #3B4455;\n",
              "      --fill-color: #D2E3FC;\n",
              "      --hover-bg-color: #434B5C;\n",
              "      --hover-fill-color: #FFFFFF;\n",
              "      --disabled-bg-color: #3B4455;\n",
              "      --disabled-fill-color: #666;\n",
              "  }\n",
              "\n",
              "  .colab-df-quickchart {\n",
              "    background-color: var(--bg-color);\n",
              "    border: none;\n",
              "    border-radius: 50%;\n",
              "    cursor: pointer;\n",
              "    display: none;\n",
              "    fill: var(--fill-color);\n",
              "    height: 32px;\n",
              "    padding: 0;\n",
              "    width: 32px;\n",
              "  }\n",
              "\n",
              "  .colab-df-quickchart:hover {\n",
              "    background-color: var(--hover-bg-color);\n",
              "    box-shadow: 0 1px 2px rgba(60, 64, 67, 0.3), 0 1px 3px 1px rgba(60, 64, 67, 0.15);\n",
              "    fill: var(--button-hover-fill-color);\n",
              "  }\n",
              "\n",
              "  .colab-df-quickchart-complete:disabled,\n",
              "  .colab-df-quickchart-complete:disabled:hover {\n",
              "    background-color: var(--disabled-bg-color);\n",
              "    fill: var(--disabled-fill-color);\n",
              "    box-shadow: none;\n",
              "  }\n",
              "\n",
              "  .colab-df-spinner {\n",
              "    border: 2px solid var(--fill-color);\n",
              "    border-color: transparent;\n",
              "    border-bottom-color: var(--fill-color);\n",
              "    animation:\n",
              "      spin 1s steps(1) infinite;\n",
              "  }\n",
              "\n",
              "  @keyframes spin {\n",
              "    0% {\n",
              "      border-color: transparent;\n",
              "      border-bottom-color: var(--fill-color);\n",
              "      border-left-color: var(--fill-color);\n",
              "    }\n",
              "    20% {\n",
              "      border-color: transparent;\n",
              "      border-left-color: var(--fill-color);\n",
              "      border-top-color: var(--fill-color);\n",
              "    }\n",
              "    30% {\n",
              "      border-color: transparent;\n",
              "      border-left-color: var(--fill-color);\n",
              "      border-top-color: var(--fill-color);\n",
              "      border-right-color: var(--fill-color);\n",
              "    }\n",
              "    40% {\n",
              "      border-color: transparent;\n",
              "      border-right-color: var(--fill-color);\n",
              "      border-top-color: var(--fill-color);\n",
              "    }\n",
              "    60% {\n",
              "      border-color: transparent;\n",
              "      border-right-color: var(--fill-color);\n",
              "    }\n",
              "    80% {\n",
              "      border-color: transparent;\n",
              "      border-right-color: var(--fill-color);\n",
              "      border-bottom-color: var(--fill-color);\n",
              "    }\n",
              "    90% {\n",
              "      border-color: transparent;\n",
              "      border-bottom-color: var(--fill-color);\n",
              "    }\n",
              "  }\n",
              "</style>\n",
              "\n",
              "  <script>\n",
              "    async function quickchart(key) {\n",
              "      const quickchartButtonEl =\n",
              "        document.querySelector('#' + key + ' button');\n",
              "      quickchartButtonEl.disabled = true;  // To prevent multiple clicks.\n",
              "      quickchartButtonEl.classList.add('colab-df-spinner');\n",
              "      try {\n",
              "        const charts = await google.colab.kernel.invokeFunction(\n",
              "            'suggestCharts', [key], {});\n",
              "      } catch (error) {\n",
              "        console.error('Error during call to suggestCharts:', error);\n",
              "      }\n",
              "      quickchartButtonEl.classList.remove('colab-df-spinner');\n",
              "      quickchartButtonEl.classList.add('colab-df-quickchart-complete');\n",
              "    }\n",
              "    (() => {\n",
              "      let quickchartButtonEl =\n",
              "        document.querySelector('#df-a55abc53-1081-4179-a455-ae068740f35c button');\n",
              "      quickchartButtonEl.style.display =\n",
              "        google.colab.kernel.accessAllowed ? 'block' : 'none';\n",
              "    })();\n",
              "  </script>\n",
              "</div>\n",
              "    </div>\n",
              "  </div>\n"
            ],
            "application/vnd.google.colaboratory.intrinsic+json": {
              "type": "dataframe",
              "variable_name": "data",
              "summary": "{\n  \"name\": \"data\",\n  \"rows\": 66,\n  \"fields\": [\n    {\n      \"column\": \"Unnamed: 0\",\n      \"properties\": {\n        \"dtype\": \"number\",\n        \"std\": 21,\n        \"min\": 1,\n        \"max\": 75,\n        \"num_unique_values\": 66,\n        \"samples\": [\n          61,\n          71,\n          1\n        ],\n        \"semantic_type\": \"\",\n        \"description\": \"\"\n      }\n    },\n    {\n      \"column\": \"reviews\",\n      \"properties\": {\n        \"dtype\": \"number\",\n        \"std\": 43,\n        \"min\": 1,\n        \"max\": 218,\n        \"num_unique_values\": 48,\n        \"samples\": [\n          119,\n          68,\n          79\n        ],\n        \"semantic_type\": \"\",\n        \"description\": \"\"\n      }\n    },\n    {\n      \"column\": \"savwish\",\n      \"properties\": {\n        \"dtype\": \"number\",\n        \"std\": 676,\n        \"min\": 13,\n        \"max\": 3429,\n        \"num_unique_values\": 64,\n        \"samples\": [\n          492,\n          591,\n          1277\n        ],\n        \"semantic_type\": \"\",\n        \"description\": \"\"\n      }\n    },\n    {\n      \"column\": \"logreviews\",\n      \"properties\": {\n        \"dtype\": \"number\",\n        \"std\": 0.5697616568748355,\n        \"min\": 0.301029996,\n        \"max\": 2.340444115,\n        \"num_unique_values\": 48,\n        \"samples\": [\n          2.079181246,\n          1.838849091,\n          1.903089987\n        ],\n        \"semantic_type\": \"\",\n        \"description\": \"\"\n      }\n    },\n    {\n      \"column\": \"logsavwish\",\n      \"properties\": {\n        \"dtype\": \"number\",\n        \"std\": 0.5223412319923134,\n        \"min\": 1.146128036,\n        \"max\": 3.53529412,\n        \"num_unique_values\": 64,\n        \"samples\": [\n          2.692846919,\n          2.772321707,\n          3.106530854\n        ],\n        \"semantic_type\": \"\",\n        \"description\": \"\"\n      }\n    },\n    {\n      \"column\": \"price\",\n      \"properties\": {\n        \"dtype\": \"number\",\n        \"std\": 120,\n        \"min\": 40,\n        \"max\": 853,\n        \"num_unique_values\": 40,\n        \"samples\": [\n          228,\n          199,\n          102\n        ],\n        \"semantic_type\": \"\",\n        \"description\": \"\"\n      }\n    },\n    {\n      \"column\": \"rating\",\n      \"properties\": {\n        \"dtype\": \"number\",\n        \"std\": 0.2803801947589266,\n        \"min\": 4.0,\n        \"max\": 5.0,\n        \"num_unique_values\": 3,\n        \"samples\": [\n          4.5,\n          5.0,\n          4.0\n        ],\n        \"semantic_type\": \"\",\n        \"description\": \"\"\n      }\n    },\n    {\n      \"column\": \"accommodates\",\n      \"properties\": {\n        \"dtype\": \"number\",\n        \"std\": 1,\n        \"min\": 1,\n        \"max\": 11,\n        \"num_unique_values\": 9,\n        \"samples\": [\n          6,\n          2,\n          1\n        ],\n        \"semantic_type\": \"\",\n        \"description\": \"\"\n      }\n    },\n    {\n      \"column\": \"extpeop\",\n      \"properties\": {\n        \"dtype\": \"number\",\n        \"std\": 0,\n        \"min\": 0,\n        \"max\": 1,\n        \"num_unique_values\": 2,\n        \"samples\": [\n          0,\n          1\n        ],\n        \"semantic_type\": \"\",\n        \"description\": \"\"\n      }\n    },\n    {\n      \"column\": \"min_stay\",\n      \"properties\": {\n        \"dtype\": \"number\",\n        \"std\": 1,\n        \"min\": 1,\n        \"max\": 5,\n        \"num_unique_values\": 5,\n        \"samples\": [\n          3,\n          4\n        ],\n        \"semantic_type\": \"\",\n        \"description\": \"\"\n      }\n    },\n    {\n      \"column\": \"sentiment\",\n      \"properties\": {\n        \"dtype\": \"number\",\n        \"std\": 0.6306602858903482,\n        \"min\": 0.810741325,\n        \"max\": 4.142957283,\n        \"num_unique_values\": 65,\n        \"samples\": [\n          3.164160293,\n          1.735374705\n        ],\n        \"semantic_type\": \"\",\n        \"description\": \"\"\n      }\n    },\n    {\n      \"column\": \"secdep\",\n      \"properties\": {\n        \"dtype\": \"number\",\n        \"std\": 0,\n        \"min\": 0,\n        \"max\": 1,\n        \"num_unique_values\": 2,\n        \"samples\": [\n          0,\n          1\n        ],\n        \"semantic_type\": \"\",\n        \"description\": \"\"\n      }\n    },\n    {\n      \"column\": \"cleanfee\",\n      \"properties\": {\n        \"dtype\": \"number\",\n        \"std\": 0,\n        \"min\": 0,\n        \"max\": 1,\n        \"num_unique_values\": 2,\n        \"samples\": [\n          0,\n          1\n        ],\n        \"semantic_type\": \"\",\n        \"description\": \"\"\n      }\n    },\n    {\n      \"column\": \"weekfee\",\n      \"properties\": {\n        \"dtype\": \"number\",\n        \"std\": 0,\n        \"min\": 0,\n        \"max\": 1,\n        \"num_unique_values\": 2,\n        \"samples\": [\n          0,\n          1\n        ],\n        \"semantic_type\": \"\",\n        \"description\": \"\"\n      }\n    },\n    {\n      \"column\": \"monthfee\",\n      \"properties\": {\n        \"dtype\": \"number\",\n        \"std\": 0,\n        \"min\": 0,\n        \"max\": 1,\n        \"num_unique_values\": 2,\n        \"samples\": [\n          0,\n          1\n        ],\n        \"semantic_type\": \"\",\n        \"description\": \"\"\n      }\n    },\n    {\n      \"column\": \"bedroom\",\n      \"properties\": {\n        \"dtype\": \"number\",\n        \"std\": 0,\n        \"min\": 0,\n        \"max\": 4,\n        \"num_unique_values\": 4,\n        \"samples\": [\n          4,\n          0\n        ],\n        \"semantic_type\": \"\",\n        \"description\": \"\"\n      }\n    },\n    {\n      \"column\": \"bathroom\",\n      \"properties\": {\n        \"dtype\": \"number\",\n        \"std\": 0,\n        \"min\": 0,\n        \"max\": 4,\n        \"num_unique_values\": 5,\n        \"samples\": [\n          3,\n          4\n        ],\n        \"semantic_type\": \"\",\n        \"description\": \"\"\n      }\n    },\n    {\n      \"column\": \"beds\",\n      \"properties\": {\n        \"dtype\": \"number\",\n        \"std\": 1,\n        \"min\": 1,\n        \"max\": 8,\n        \"num_unique_values\": 6,\n        \"samples\": [\n          1,\n          5\n        ],\n        \"semantic_type\": \"\",\n        \"description\": \"\"\n      }\n    },\n    {\n      \"column\": \"review_text\",\n      \"properties\": {\n        \"dtype\": \"string\",\n        \"num_unique_values\": 66,\n        \"samples\": [\n          \"Lea was very helpful and welcoming. Just arrived there was a small problem with the hot water but Lea was very attentive and she had already organized an intervention that she has followed personally. The apartment was clean and equipped. A great stay!\\nLea was great at communicating before our stay and her husband was very helpful when we checked in. We really liked the area - the only thing I would say is that there isn't a great view from the apartment which we expected from the photos.\\nLea was so friendly and helpful and her little flat was amazing. I can only give her my best recommendations.\\nIt's a very cozy apartment and in a great location. Lea is very friendly and she's easy to reach if needed. She gave us great recommendation for lunch spots! One thing though, it's some narrow spiral staircases that lead to the apartment so people with large luggages might find it difficult. It wasn't a problem for us and once we are in the apartment we felt very relaxed because of the simple but charming decor and comfy sofas and bed.\\nLea was the kindest host and the apartment was immaculate and had everything I needed for my stay. The neighborhood is wonderful too. I would stay at Lea's place again in a heartbeat.\\nLovely apartment with everything I needed! Great communication and everything went smoothly. Thanks a lot!\\nAmazing apartment, perfect for our trip, had everything we needed. Lea was very helpful and replied to me straight away if I had any questions. Thank you!\\nLea's place is in a strategic positon, is very quiet and clean. She is a very special host, kind and precise. Thanks Lea! I hope to come back.\\nSuper accueil, super appart, tout \\u00e9tait parfait... Go go go ;)))\\nWe were five colleagues staying in Lea's apartment for a training session in Paris. Very clear communication, amazing, spacious apartment, and perfect location on a quiet street (between the Canal and Republique). Would definitely recommend a stay here.\\nVery good Place to stay. Close to important locations. The apartment is small but with everything we need.\\nThe reservation was canceled 43 days before arrival. This is an automated posting.\\nWhat a great little place :) quiet, clean and very well located. Matt was very welcoming and helpful. Would definitely stay here again!\\nS\\u00e9jour parfait, merci L\\u00e9a.\\nWe had a fabulous stay in Lea's gorgeous Parisian apartment. The apartment was much bigger then we expected and the photos do not do it justice. Lea was lovely and extremely responsive to all of our correspondence. I would highly recommend this apartment as it is beautiful, and truly Parisian chic. This is a fabulous apartment.\\nWhat a fantastic apartment! Beautifully furnished and in a great location for exploring Paris. There was 10 of us staying in the apartment and we had plenty of room. Lea is a great host, very welcoming and gave us lots of information about the area. Would definitely recommend staying here!\\nLea was a perfect host and the appartment was very nice. Thanks for a wonderful stay in Paris!\\nLovely appartment, lovely area and great host. Couldn't ask for more!\\nWe could not have asked for a better apartment than this one! It was well situated and a great big size for 8 people. Lea was a wonderful host; she made reservations for us at restaurants and took her time to welcome us to the apartment. If I ever go back with a group of friends or family I will look no further. What a great place!\",\n          \"Phillipe, Thanks so much for the lovely stay. The Marais location was prefect and the apartment was exactly what we needed for a quick and comfortable stay in Paris. I especially loved the loft view of rooftops! Thanks again, Carolyn\\nL'appartement est coquet et charmant. Il est bien plac\\u00e9 dans un quartier calme et agr\\u00e9able. Il contient les \\u00e9quipements n\\u00e9cessaires pour passer un bon s\\u00e9jour. La literie est propre et agr\\u00e9able. Nous y avons pass\\u00e9 un excellent moment. Notre h\\u00f4te nous a conseill\\u00e9 un march\\u00e9 pittoresque \\u00e0 proximit\\u00e9\\nGreat spot to enjoy this stylish part of town, and in easy reach of major sights. Cool and compact apartment, great for a short break. Hosts really helpful.\\nWe enjoyed our stay at this quaint apartment in a great location. Philippe was very friendly and made us feel welcome. We recommend this apartment to everyone. thank you Philippe!\\nThe apartment is so sweet. I loved it. I really loved it. Paris is grand. The Marais is filled with little shops with everything you could ever want. Personally, I felt safer here than I do in Boston, and I live in Boston. Philippe is the best host ever, I fell in luv. I would and will go back as often as I can.\\nBeautiful mini apartment in a fabulous neighborhood. Perfect.\\nCharming little apartment situated on the 5th floor of typical Parisien building. Great location, only 5 minute walk away from Rue de Froissart metro stop. We arrived early before the previous guests had departed so our host arranged for his friend in the same building to look after our bags. We met our host later on that day and he gave us the keys and showed us around apartment, which was in prefect condition. There are a lot of stairs up to the apartment so if you have knee problems or if you are old, this apartment may not be suitable for you. Also, any noises coming from the toilet can be heard quite clearly throughout the apartment, so you might want to be quite comfortable with whoever you stay with here! Overall though, a great apartment\\nI had never been to Paris and this apt was in a great location to walk and take the metro from. Philippe was easy to coordinate with for checkin and check out. Thanks!\\nVery nice contact and a small - but extremely lovely! - apartment! Clean, calm, and old Paris-style classy. The location is perfect for going anywhere by foot or by metro, there are tons of restaurants, caf\\u00e9s, brasseries and shops right outside the door. I would recommend this place to anyone fit enough to climb 5 flights of stairs.\\nGreat place! Real good value for money! Super kind host and, although a very small space, it has everything you (website hidden)'s very quite and clean and with a beautiful authentic Parisian touch; you feel like you live in in Paris. The Marais is the hottest area at the moment, so you won't regret staying here. Philippe even recommended me his favourite restaurant (you have to ask him ; ) which was sublime. I traveled alone and felt completely safe and relaxed, which is absolutely worth the climbing of a few stairs. Just book it\\nWe arrived late to Leece due to all trains being completely to (it was a holiday) but our host arrived a second time to pick us up at the train station. We felt so at ease knowing he would take us to his apartment. The apartment is even better than is pictured! It was amazing and we walked everywhere. But if you prefer to take the city bus it is located just one block down the street at no cost. We absolutely recommend this location! All bedding, towels, music he provides, wifi, and many other extras were better than a five star hotel.\\nWe had a lovely time in Philippe's cute little Paris apartment! It is situated in a sweet neighborhood within comfortable walking distance to the tube and major sights like Notre Dame and the Louvre. It felt that we were \\\"\\\"living\\\"\\\" in Paris instead of just being a tourist. The beds were comfortable and the WiFi was good. Philippe was a wonderful host! He helped us find the apartment when we got lost, helped us drag our 3 very large suitcases up 4 flights of stairs and even called a taxi for our departure since I couldn't pronounce the street names. The shower and toilet were a bit small and tricky to manage, but nothing too difficult. Overall we had a fabulous time and I would highly recommend staying here to anyone in the future!\\nThis was my first time using airbnb and what a great experience. The apartment was just as it was presented on the site and exactly what I was looking for. The host was very helpful,the appartment was clean, and we slept like babes each night with the window open on our top floor abode. the apartment was just a 10 minute walk away from Notre Dame. I was able to make breakfast each morning on our petite stove top. Thank you again. We would definitely stay again.\\nThis apartment although small is great. Ideally located in the heart of the Marais it's newly refurbished and nicely done.\\nAnne fell in love with Philippe's apartment and now wants to move to Paris and live in it! It's very large and has big windows with lots of light. It's also in a great location. Less than 10 minutes walk to the Censier Daubenton station on the #7 Metro line which goes right to the Louvre. About a 15 minute walk to the RER B line which goes directly to the Gare du Nord (Railroad station) and all the way to CDG airport. And best of all, it's a 5 minute walk to the wonderful Rue Mouffetard, one of the oldest streets in Paris, with a bustling, permanent street market. If you love food, you'll love Rue Mouffetard! Philippe gave us great directions on the best way to get to and from his apartment. He met us there with two sets of keys, as requested, and communication with him was easy. We'll definitely be contacting him again on our next trip to Paris.\\nThe reservation was canceled 4 days before arrival. This is an automated posting.\\nThank you for a good stay. The location of the apartment is excellent and the apartment was exactly what I needed for a quick and comfortable stay in Paris. Philippe was very helpful.\\nPhilippe's flat is great. Very clean, new and charmant. It's in the heart of Paris, in the lovely (email hidden)ly neighborhood crowded with nice caf\\u00e9s, restaurants, great shops and museums. Philippe was very kind, the appartment has a coffee and a tea machine available, we enjoyed having breakfast at home in the morning. We are looking forward to go back to Paris!\\nWe went to Paris to watch our son in the Marathon and had a sunny weekend in this wonderfully light and artfully decorated apartment. We felt wonderfully at home and comfortable among the artworks and velvet and slept deeply on the excellent beds. A great location and a wonderful space from which to venture forth and explore the cultural richness fo Paris.\\nPhilippe was very attentive and helpful! And the location of the apartment is excellent! Thanks very much for everything!\"\n        ],\n        \"semantic_type\": \"\",\n        \"description\": \"\"\n      }\n    }\n  ]\n}"
            }
          },
          "metadata": {},
          "execution_count": 1
        }
      ],
      "source": [
        "import pandas as pd\n",
        "from nltk.corpus import stopwords\n",
        "from nltk.stem import PorterStemmer\n",
        "from nltk.tokenize import word_tokenize\n",
        "import string\n",
        "data = pd.read_csv('Abnb_paris.csv')\n",
        "data.head()"
      ]
    },
    {
      "cell_type": "code",
      "source": [
        "pip install nltk\n"
      ],
      "metadata": {
        "colab": {
          "base_uri": "https://localhost:8080/"
        },
        "id": "umtIZjgY1wyz",
        "outputId": "1cc7b689-2925-424a-f0d7-6b91a5e9fb0b"
      },
      "execution_count": null,
      "outputs": [
        {
          "output_type": "stream",
          "name": "stdout",
          "text": [
            "Requirement already satisfied: nltk in /usr/local/lib/python3.10/dist-packages (3.8.1)\n",
            "Requirement already satisfied: click in /usr/local/lib/python3.10/dist-packages (from nltk) (8.1.7)\n",
            "Requirement already satisfied: joblib in /usr/local/lib/python3.10/dist-packages (from nltk) (1.4.0)\n",
            "Requirement already satisfied: regex>=2021.8.3 in /usr/local/lib/python3.10/dist-packages (from nltk) (2023.12.25)\n",
            "Requirement already satisfied: tqdm in /usr/local/lib/python3.10/dist-packages (from nltk) (4.66.2)\n"
          ]
        }
      ]
    },
    {
      "cell_type": "code",
      "source": [
        "import string\n",
        "from nltk.tokenize import word_tokenize\n",
        "from nltk.corpus import stopwords\n",
        "from nltk.stem import PorterStemmer"
      ],
      "metadata": {
        "id": "CSXQiTFA1tQz"
      },
      "execution_count": null,
      "outputs": []
    },
    {
      "cell_type": "code",
      "source": [
        "import nltk\n",
        "nltk.download('punkt')\n",
        "nltk.download('stopwords')\n"
      ],
      "metadata": {
        "colab": {
          "base_uri": "https://localhost:8080/"
        },
        "id": "-6IViMoF1Lc4",
        "outputId": "c8608880-74ff-4181-80e0-9d9fd0134769"
      },
      "execution_count": null,
      "outputs": [
        {
          "output_type": "stream",
          "name": "stderr",
          "text": [
            "[nltk_data] Downloading package punkt to /root/nltk_data...\n",
            "[nltk_data]   Unzipping tokenizers/punkt.zip.\n",
            "[nltk_data] Downloading package stopwords to /root/nltk_data...\n",
            "[nltk_data]   Unzipping corpora/stopwords.zip.\n"
          ]
        },
        {
          "output_type": "execute_result",
          "data": {
            "text/plain": [
              "True"
            ]
          },
          "metadata": {},
          "execution_count": 4
        }
      ]
    },
    {
      "cell_type": "code",
      "execution_count": null,
      "metadata": {
        "id": "f_SSusJcwMgc"
      },
      "outputs": [],
      "source": [
        "data['review_text'] = data['review_text'].astype(str)\n",
        "data['review_text'] = data['review_text'].str.lower()\n",
        "data['review_text'] = data['review_text'].str.translate(str.maketrans('', '', string.punctuation))\n",
        "data['review_text'] = data['review_text'].apply(word_tokenize)\n",
        "stop = stopwords.words('english')\n",
        "data['review_text'] = data['review_text'].apply(lambda x: [item for item in x if item not in stop])\n",
        "stemmer = PorterStemmer()\n",
        "data['review_text'] = data['review_text'].apply(lambda x: [stemmer.stem(y) for y in x])\n",
        "data['review_text'] = data['review_text'].apply(lambda x: ' '.join(x))"
      ]
    },
    {
      "cell_type": "code",
      "execution_count": null,
      "metadata": {
        "colab": {
          "base_uri": "https://localhost:8080/"
        },
        "id": "yb6ZS39FwMgc",
        "outputId": "b6522dae-c3ac-4a94-c87b-1d22ab59af11"
      },
      "outputs": [
        {
          "output_type": "stream",
          "name": "stdout",
          "text": [
            "Index(['Unnamed: 0', 'reviews', 'savwish', 'logreviews', 'logsavwish', 'price',\n",
            "       'rating', 'accommodates', 'extpeop', 'min_stay', 'sentiment', 'secdep',\n",
            "       'cleanfee', 'weekfee', 'monthfee', 'bedroom', 'bathroom', 'beds',\n",
            "       'review_text'],\n",
            "      dtype='object')\n"
          ]
        }
      ],
      "source": [
        "columns = data.columns\n",
        "print(columns)\n"
      ]
    },
    {
      "cell_type": "code",
      "execution_count": null,
      "metadata": {
        "colab": {
          "base_uri": "https://localhost:8080/"
        },
        "id": "dwjrX4R6wMgc",
        "outputId": "35f11e53-04ed-4740-ca16-5b9dfaf7db71"
      },
      "outputs": [
        {
          "output_type": "stream",
          "name": "stdout",
          "text": [
            "Mean sentiment score: 2.345700610772728\n"
          ]
        }
      ],
      "source": [
        "mean_sentiment = data['sentiment'].mean()\n",
        "print(\"Mean sentiment score:\", mean_sentiment)\n"
      ]
    },
    {
      "cell_type": "code",
      "source": [
        "unique_sentiments = data['sentiment'].unique()\n",
        "print(\"Unique sentiments:\", unique_sentiments)\n"
      ],
      "metadata": {
        "colab": {
          "base_uri": "https://localhost:8080/"
        },
        "id": "7CrSNeWU2c_4",
        "outputId": "fc303642-c1d7-4e9f-959a-a9e28d845e8e"
      },
      "execution_count": null,
      "outputs": [
        {
          "output_type": "stream",
          "name": "stdout",
          "text": [
            "Unique sentiments: [3.20894318 2.245883   2.5091372  2.86432218 1.89230498 1.97289466\n",
            " 2.85275333 1.83493536 1.97480161 1.72117282 3.29043786 1.68841642\n",
            " 2.33024976 2.41866416 4.14295728 2.80891703 1.38619579 1.37776712\n",
            " 1.64524983 1.34869863 2.01115924 2.79762178 2.01875    2.7602665\n",
            " 1.64676171 2.39445305 1.62364874 2.35589108 2.26192517 2.32097614\n",
            " 1.4419243  2.62106447 3.537711   1.76349671 1.80923355 2.33736251\n",
            " 2.72133378 2.21071222 1.96860461 2.78691043 2.87083545 0.81074132\n",
            " 3.10743708 2.86239447 2.22085947 2.68652556 2.77192785 2.11803788\n",
            " 3.34305105 1.87044299 1.71889023 1.74684573 2.66436528 3.16416029\n",
            " 2.87656332 3.13709162 2.83147901 2.93217716 2.70336581 2.12726667\n",
            " 1.7353747  2.91748921 2.11068997 2.88200197 1.37146725]\n"
          ]
        }
      ]
    },
    {
      "cell_type": "code",
      "source": [
        "total_sentiment = data['sentiment'].sum()\n",
        "print(\"Total sentiment score:\", total_sentiment)\n"
      ],
      "metadata": {
        "colab": {
          "base_uri": "https://localhost:8080/"
        },
        "id": "HoUJW7ZC2fd0",
        "outputId": "6d499d54-7bd4-4686-f0ce-b76ec5687af4"
      },
      "execution_count": null,
      "outputs": [
        {
          "output_type": "stream",
          "name": "stdout",
          "text": [
            "Total sentiment score: 154.81624031100003\n"
          ]
        }
      ]
    },
    {
      "cell_type": "code",
      "source": [
        "import matplotlib.pyplot as plt\n",
        "data['sentiment'].plot(kind='hist')\n",
        "plt.xlabel('Sentiment Score')\n",
        "plt.ylabel('Frequency')\n",
        "plt.title('Distribution of Sentiment Scores')\n",
        "plt.show()\n"
      ],
      "metadata": {
        "colab": {
          "base_uri": "https://localhost:8080/",
          "height": 472
        },
        "id": "wwlqCw0D2iOH",
        "outputId": "f9e7a0fe-ac14-47c1-a171-193e7ecab823"
      },
      "execution_count": null,
      "outputs": [
        {
          "output_type": "display_data",
          "data": {
            "text/plain": [
              "<Figure size 640x480 with 1 Axes>"
            ],
            "image/png": "[encoded data removed]"
          },
          "metadata": {}
        }
      ]
    },
    {
      "cell_type": "markdown",
      "metadata": {
        "id": "DjxjflwAwMgc"
      },
      "source": [
        "**Preprocessing**"
      ]
    },
    {
      "cell_type": "code",
      "source": [
        "from sklearn.feature_extraction.text import TfidfVectorizer, CountVectorizer\n",
        "from sklearn.model_selection import train_test_split\n",
        "from sklearn.preprocessing import LabelEncoder"
      ],
      "metadata": {
        "id": "JctqbP2_2ppC"
      },
      "execution_count": null,
      "outputs": []
    },
    {
      "cell_type": "code",
      "execution_count": null,
      "metadata": {
        "colab": {
          "base_uri": "https://localhost:8080/"
        },
        "id": "pC2aYIV4wMgd",
        "outputId": "0e6d8d78-f356-4fbb-ebfa-7477a61648a5"
      },
      "outputs": [
        {
          "output_type": "stream",
          "name": "stdout",
          "text": [
            "Unique sentiment values: [3 2 1 4 0]\n"
          ]
        }
      ],
      "source": [
        "data = data.iloc[:, 1:]\n",
        "columns_to_drop = ['logreviews', 'logsavwish']\n",
        "data = data.drop(columns_to_drop, axis=1)\n",
        "vectorizer = CountVectorizer(stop_words='english')\n",
        "X = vectorizer.fit_transform(data['review_text'])\n",
        "data['sentiment'] = data['sentiment'].astype(int)\n",
        "unique_sentiments = data['sentiment'].unique()\n",
        "print(\"Unique sentiment values:\", unique_sentiments)"
      ]
    },
    {
      "cell_type": "code",
      "source": [
        "from sklearn.model_selection import train_test_split\n",
        "from sklearn.naive_bayes import MultinomialNB\n",
        "from sklearn.tree import DecisionTreeClassifier\n",
        "from sklearn.svm import SVC\n",
        "from sklearn.ensemble import RandomForestClassifier, AdaBoostClassifier, VotingClassifier"
      ],
      "metadata": {
        "id": "EZ7pKFmY3jW6"
      },
      "execution_count": null,
      "outputs": []
    },
    {
      "cell_type": "markdown",
      "metadata": {
        "id": "cPBsx-FHwMgd"
      },
      "source": [
        "**Model Training**"
      ]
    },
    {
      "cell_type": "code",
      "execution_count": null,
      "metadata": {
        "colab": {
          "base_uri": "https://localhost:8080/",
          "height": 110
        },
        "id": "gZpD7-mTwMgd",
        "outputId": "24376ce1-8e1a-4358-aad2-0e73f45098d7"
      },
      "outputs": [
        {
          "output_type": "execute_result",
          "data": {
            "text/plain": [
              "VotingClassifier(estimators=[('nb', MultinomialNB()),\n",
              "                             ('dt', DecisionTreeClassifier()),\n",
              "                             ('svm', SVC(kernel='linear', probability=True))],\n",
              "                 voting='soft')"
            ],
            "text/html": [
              "<style>#sk-container-id-1 {color: black;background-color: white;}#sk-container-id-1 pre{padding: 0;}#sk-container-id-1 div.sk-toggleable {background-color: white;}#sk-container-id-1 label.sk-toggleable__label {cursor: pointer;display: block;width: 100%;margin-bottom: 0;padding: 0.3em;box-sizing: border-box;text-align: center;}#sk-container-id-1 label.sk-toggleable__label-arrow:before {content: \"▸\";float: left;margin-right: 0.25em;color: #696969;}#sk-container-id-1 label.sk-toggleable__label-arrow:hover:before {color: black;}#sk-container-id-1 div.sk-estimator:hover label.sk-toggleable__label-arrow:before {color: black;}#sk-container-id-1 div.sk-toggleable__content {max-height: 0;max-width: 0;overflow: hidden;text-align: left;background-color: #f0f8ff;}#sk-container-id-1 div.sk-toggleable__content pre {margin: 0.2em;color: black;border-radius: 0.25em;background-color: #f0f8ff;}#sk-container-id-1 input.sk-toggleable__control:checked~div.sk-toggleable__content {max-height: 200px;max-width: 100%;overflow: auto;}#sk-container-id-1 input.sk-toggleable__control:checked~label.sk-toggleable__label-arrow:before {content: \"▾\";}#sk-container-id-1 div.sk-estimator input.sk-toggleable__control:checked~label.sk-toggleable__label {background-color: #d4ebff;}#sk-container-id-1 div.sk-label input.sk-toggleable__control:checked~label.sk-toggleable__label {background-color: #d4ebff;}#sk-container-id-1 input.sk-hidden--visually {border: 0;clip: rect(1px 1px 1px 1px);clip: rect(1px, 1px, 1px, 1px);height: 1px;margin: -1px;overflow: hidden;padding: 0;position: absolute;width: 1px;}#sk-container-id-1 div.sk-estimator {font-family: monospace;background-color: #f0f8ff;border: 1px dotted black;border-radius: 0.25em;box-sizing: border-box;margin-bottom: 0.5em;}#sk-container-id-1 div.sk-estimator:hover {background-color: #d4ebff;}#sk-container-id-1 div.sk-parallel-item::after {content: \"\";width: 100%;border-bottom: 1px solid gray;flex-grow: 1;}#sk-container-id-1 div.sk-label:hover label.sk-toggleable__label {background-color: #d4ebff;}#sk-container-id-1 div.sk-serial::before {content: \"\";position: absolute;border-left: 1px solid gray;box-sizing: border-box;top: 0;bottom: 0;left: 50%;z-index: 0;}#sk-container-id-1 div.sk-serial {display: flex;flex-direction: column;align-items: center;background-color: white;padding-right: 0.2em;padding-left: 0.2em;position: relative;}#sk-container-id-1 div.sk-item {position: relative;z-index: 1;}#sk-container-id-1 div.sk-parallel {display: flex;align-items: stretch;justify-content: center;background-color: white;position: relative;}#sk-container-id-1 div.sk-item::before, #sk-container-id-1 div.sk-parallel-item::before {content: \"\";position: absolute;border-left: 1px solid gray;box-sizing: border-box;top: 0;bottom: 0;left: 50%;z-index: -1;}#sk-container-id-1 div.sk-parallel-item {display: flex;flex-direction: column;z-index: 1;position: relative;background-color: white;}#sk-container-id-1 div.sk-parallel-item:first-child::after {align-self: flex-end;width: 50%;}#sk-container-id-1 div.sk-parallel-item:last-child::after {align-self: flex-start;width: 50%;}#sk-container-id-1 div.sk-parallel-item:only-child::after {width: 0;}#sk-container-id-1 div.sk-dashed-wrapped {border: 1px dashed gray;margin: 0 0.4em 0.5em 0.4em;box-sizing: border-box;padding-bottom: 0.4em;background-color: white;}#sk-container-id-1 div.sk-label label {font-family: monospace;font-weight: bold;display: inline-block;line-height: 1.2em;}#sk-container-id-1 div.sk-label-container {text-align: center;}#sk-container-id-1 div.sk-container {/* jupyter's `normalize.less` sets `[hidden] { display: none; }` but bootstrap.min.css set `[hidden] { display: none !important; }` so we also need the `!important` here to be able to override the default hidden behavior on the sphinx rendered scikit-learn.org. See: https://github.com/scikit-learn/scikit-learn/issues/21755 */display: inline-block !important;position: relative;}#sk-container-id-1 div.sk-text-repr-fallback {display: none;}</style><div id=\"sk-container-id-1\" class=\"sk-top-container\"><div class=\"sk-text-repr-fallback\"><pre>VotingClassifier(estimators=[(&#x27;nb&#x27;, MultinomialNB()),\n",
              "                             (&#x27;dt&#x27;, DecisionTreeClassifier()),\n",
              "                             (&#x27;svm&#x27;, SVC(kernel=&#x27;linear&#x27;, probability=True))],\n",
              "                 voting=&#x27;soft&#x27;)</pre><b>In a Jupyter environment, please rerun this cell to show the HTML representation or trust the notebook. <br />On GitHub, the HTML representation is unable to render, please try loading this page with nbviewer.org.</b></div><div class=\"sk-container\" hidden><div class=\"sk-item sk-dashed-wrapped\"><div class=\"sk-label-container\"><div class=\"sk-label sk-toggleable\"><input class=\"sk-toggleable__control sk-hidden--visually\" id=\"sk-estimator-id-1\" type=\"checkbox\" ><label for=\"sk-estimator-id-1\" class=\"sk-toggleable__label sk-toggleable__label-arrow\">VotingClassifier</label><div class=\"sk-toggleable__content\"><pre>VotingClassifier(estimators=[(&#x27;nb&#x27;, MultinomialNB()),\n",
              "                             (&#x27;dt&#x27;, DecisionTreeClassifier()),\n",
              "                             (&#x27;svm&#x27;, SVC(kernel=&#x27;linear&#x27;, probability=True))],\n",
              "                 voting=&#x27;soft&#x27;)</pre></div></div></div><div class=\"sk-parallel\"><div class=\"sk-parallel-item\"><div class=\"sk-item\"><div class=\"sk-label-container\"><div class=\"sk-label sk-toggleable\"><label>nb</label></div></div><div class=\"sk-serial\"><div class=\"sk-item\"><div class=\"sk-estimator sk-toggleable\"><input class=\"sk-toggleable__control sk-hidden--visually\" id=\"sk-estimator-id-2\" type=\"checkbox\" ><label for=\"sk-estimator-id-2\" class=\"sk-toggleable__label sk-toggleable__label-arrow\">MultinomialNB</label><div class=\"sk-toggleable__content\"><pre>MultinomialNB()</pre></div></div></div></div></div></div><div class=\"sk-parallel-item\"><div class=\"sk-item\"><div class=\"sk-label-container\"><div class=\"sk-label sk-toggleable\"><label>dt</label></div></div><div class=\"sk-serial\"><div class=\"sk-item\"><div class=\"sk-estimator sk-toggleable\"><input class=\"sk-toggleable__control sk-hidden--visually\" id=\"sk-estimator-id-3\" type=\"checkbox\" ><label for=\"sk-estimator-id-3\" class=\"sk-toggleable__label sk-toggleable__label-arrow\">DecisionTreeClassifier</label><div class=\"sk-toggleable__content\"><pre>DecisionTreeClassifier()</pre></div></div></div></div></div></div><div class=\"sk-parallel-item\"><div class=\"sk-item\"><div class=\"sk-label-container\"><div class=\"sk-label sk-toggleable\"><label>svm</label></div></div><div class=\"sk-serial\"><div class=\"sk-item\"><div class=\"sk-estimator sk-toggleable\"><input class=\"sk-toggleable__control sk-hidden--visually\" id=\"sk-estimator-id-4\" type=\"checkbox\" ><label for=\"sk-estimator-id-4\" class=\"sk-toggleable__label sk-toggleable__label-arrow\">SVC</label><div class=\"sk-toggleable__content\"><pre>SVC(kernel=&#x27;linear&#x27;, probability=True)</pre></div></div></div></div></div></div></div></div></div></div>"
            ]
          },
          "metadata": {},
          "execution_count": 14
        }
      ],
      "source": [
        "X_train, X_test, y_train, y_test = train_test_split(X, data['sentiment'], test_size=0.2, random_state=42)\n",
        "classifiers = {\n",
        "    \"Naive Bayes\": MultinomialNB(),\n",
        "    \"Decision Tree\": DecisionTreeClassifier(),\n",
        "    \"Support Vector Machine\": SVC(kernel='linear', probability=True),\n",
        "    \"Random Forest\": RandomForestClassifier(),\n",
        "    \"AdaBoost\": AdaBoostClassifier()\n",
        "}\n",
        "\n",
        "for name, classifier in classifiers.items():\n",
        "    classifier.fit(X_train, y_train)\n",
        "\n",
        "voting_classifier = VotingClassifier(estimators=[('nb', classifiers[\"Naive Bayes\"]),\n",
        "                                                 ('dt', classifiers[\"Decision Tree\"]),\n",
        "                                                 ('svm', classifiers[\"Support Vector Machine\"])],\n",
        "                                     voting='soft')\n",
        "voting_classifier.fit(X_train, y_train)\n"
      ]
    },
    {
      "cell_type": "markdown",
      "metadata": {
        "id": "qHFwYxUUwMgd"
      },
      "source": [
        "**Model Evaluation**"
      ]
    },
    {
      "cell_type": "code",
      "source": [
        "from sklearn.model_selection import train_test_split\n",
        "from sklearn.ensemble import RandomForestClassifier, AdaBoostClassifier, VotingClassifier\n",
        "from sklearn.tree import DecisionTreeClassifier\n",
        "from sklearn.svm import SVC"
      ],
      "metadata": {
        "id": "czScbuaK4B--"
      },
      "execution_count": null,
      "outputs": []
    },
    {
      "cell_type": "code",
      "execution_count": null,
      "metadata": {
        "colab": {
          "base_uri": "https://localhost:8080/"
        },
        "id": "jYa10F3AwMge",
        "outputId": "112b87b2-8eed-481e-e96f-9dd79d23b37a"
      },
      "outputs": [
        {
          "output_type": "stream",
          "name": "stderr",
          "text": [
            "/usr/local/lib/python3.10/dist-packages/sklearn/ensemble/_base.py:166: FutureWarning: `base_estimator` was renamed to `estimator` in version 1.2 and will be removed in 1.4.\n",
            "  warnings.warn(\n"
          ]
        }
      ],
      "source": [
        "X_train, X_test, y_train, y_test = train_test_split(X, data['sentiment'], test_size=0.2, random_state=42)\n",
        "\n",
        "\n",
        "rf_classifier = RandomForestClassifier().fit(X_train, y_train)\n",
        "ab_classifier = AdaBoostClassifier(base_estimator=DecisionTreeClassifier(max_depth=2)).fit(X_train, y_train)\n",
        "base_classifiers = [\n",
        "    ('Random Forest', RandomForestClassifier()),\n",
        "    ('AdaBoost', AdaBoostClassifier()),\n",
        "    ('SVM', SVC(kernel='linear', probability=True))\n",
        "]\n",
        "\n",
        "stacking_classifier = VotingClassifier(estimators=base_classifiers, voting='soft').fit(X_train, y_train)\n"
      ]
    },
    {
      "cell_type": "code",
      "source": [
        "from sklearn.metrics import confusion_matrix, classification_report\n",
        "from sklearn.ensemble import RandomForestClassifier, AdaBoostClassifier, VotingClassifier\n",
        "from sklearn.tree import DecisionTreeClassifier\n",
        "import matplotlib.pyplot as plt\n",
        "import seaborn as sns\n",
        "\n",
        "rf_classifier = RandomForestClassifier()\n",
        "rf_classifier.fit(X_train, y_train)\n",
        "rf_pred = rf_classifier.predict(X_test)\n",
        "\n",
        "ab_classifier = AdaBoostClassifier(base_estimator=DecisionTreeClassifier(max_depth=2))\n",
        "ab_classifier.fit(X_train, y_train)\n",
        "ab_pred = ab_classifier.predict(X_test)\n",
        "\n",
        "stacking_classifier = VotingClassifier(estimators=base_classifiers, voting='soft')\n",
        "stacking_classifier.fit(X_train, y_train)\n",
        "stacking_pred = stacking_classifier.predict(X_test)\n",
        "\n",
        "rf_conf_matrix = confusion_matrix(y_test, rf_pred)\n",
        "ab_conf_matrix = confusion_matrix(y_test, ab_pred)\n",
        "stacking_conf_matrix = confusion_matrix(y_test, stacking_pred)\n",
        "\n",
        "print(\"Confusion Matrix - Random Forest Classifier:\")\n",
        "print(rf_conf_matrix)\n",
        "print(\"\\nClassification Report - Random Forest Classifier:\")\n",
        "print(classification_report(y_test, rf_pred))\n",
        "\n",
        "print(\"\\nConfusion Matrix - AdaBoost Classifier:\")\n",
        "print(ab_conf_matrix)\n",
        "print(\"\\nClassification Report - AdaBoost Classifier:\")\n",
        "print(classification_report(y_test, ab_pred))\n",
        "\n",
        "print(\"\\nConfusion Matrix - Stacking Classifier:\")\n",
        "print(stacking_conf_matrix)\n",
        "print(\"\\nClassification Report - Stacking Classifier:\")\n",
        "print(classification_report(y_test, stacking_pred))"
      ],
      "metadata": {
        "colab": {
          "base_uri": "https://localhost:8080/"
        },
        "id": "AiRC8ZCS4MNX",
        "outputId": "077e436c-189e-4edc-9833-713951c14355"
      },
      "execution_count": null,
      "outputs": [
        {
          "output_type": "stream",
          "name": "stderr",
          "text": [
            "/usr/local/lib/python3.10/dist-packages/sklearn/ensemble/_base.py:166: FutureWarning: `base_estimator` was renamed to `estimator` in version 1.2 and will be removed in 1.4.\n",
            "  warnings.warn(\n"
          ]
        },
        {
          "output_type": "stream",
          "name": "stdout",
          "text": [
            "Confusion Matrix - Random Forest Classifier:\n",
            "[[0 0 1 0]\n",
            " [0 2 4 0]\n",
            " [0 1 5 0]\n",
            " [0 0 1 0]]\n",
            "\n",
            "Classification Report - Random Forest Classifier:\n",
            "              precision    recall  f1-score   support\n",
            "\n",
            "           0       0.00      0.00      0.00         1\n",
            "           1       0.67      0.33      0.44         6\n",
            "           2       0.45      0.83      0.59         6\n",
            "           3       0.00      0.00      0.00         1\n",
            "\n",
            "    accuracy                           0.50        14\n",
            "   macro avg       0.28      0.29      0.26        14\n",
            "weighted avg       0.48      0.50      0.44        14\n",
            "\n",
            "\n",
            "Confusion Matrix - AdaBoost Classifier:\n",
            "[[0 0 1 0]\n",
            " [0 2 4 0]\n",
            " [0 2 4 0]\n",
            " [0 0 1 0]]\n",
            "\n",
            "Classification Report - AdaBoost Classifier:\n",
            "              precision    recall  f1-score   support\n",
            "\n",
            "           0       0.00      0.00      0.00         1\n",
            "           1       0.50      0.33      0.40         6\n",
            "           2       0.40      0.67      0.50         6\n",
            "           3       0.00      0.00      0.00         1\n",
            "\n",
            "    accuracy                           0.43        14\n",
            "   macro avg       0.23      0.25      0.23        14\n",
            "weighted avg       0.39      0.43      0.39        14\n",
            "\n",
            "\n",
            "Confusion Matrix - Stacking Classifier:\n",
            "[[0 0 1 0]\n",
            " [0 3 3 0]\n",
            " [0 1 5 0]\n",
            " [0 0 1 0]]\n",
            "\n",
            "Classification Report - Stacking Classifier:\n",
            "              precision    recall  f1-score   support\n",
            "\n",
            "           0       0.00      0.00      0.00         1\n",
            "           1       0.75      0.50      0.60         6\n",
            "           2       0.50      0.83      0.62         6\n",
            "           3       0.00      0.00      0.00         1\n",
            "\n",
            "    accuracy                           0.57        14\n",
            "   macro avg       0.31      0.33      0.31        14\n",
            "weighted avg       0.54      0.57      0.53        14\n",
            "\n"
          ]
        },
        {
          "output_type": "stream",
          "name": "stderr",
          "text": [
            "/usr/local/lib/python3.10/dist-packages/sklearn/metrics/_classification.py:1344: UndefinedMetricWarning: Precision and F-score are ill-defined and being set to 0.0 in labels with no predicted samples. Use `zero_division` parameter to control this behavior.\n",
            "  _warn_prf(average, modifier, msg_start, len(result))\n",
            "/usr/local/lib/python3.10/dist-packages/sklearn/metrics/_classification.py:1344: UndefinedMetricWarning: Precision and F-score are ill-defined and being set to 0.0 in labels with no predicted samples. Use `zero_division` parameter to control this behavior.\n",
            "  _warn_prf(average, modifier, msg_start, len(result))\n",
            "/usr/local/lib/python3.10/dist-packages/sklearn/metrics/_classification.py:1344: UndefinedMetricWarning: Precision and F-score are ill-defined and being set to 0.0 in labels with no predicted samples. Use `zero_division` parameter to control this behavior.\n",
            "  _warn_prf(average, modifier, msg_start, len(result))\n",
            "/usr/local/lib/python3.10/dist-packages/sklearn/metrics/_classification.py:1344: UndefinedMetricWarning: Precision and F-score are ill-defined and being set to 0.0 in labels with no predicted samples. Use `zero_division` parameter to control this behavior.\n",
            "  _warn_prf(average, modifier, msg_start, len(result))\n",
            "/usr/local/lib/python3.10/dist-packages/sklearn/metrics/_classification.py:1344: UndefinedMetricWarning: Precision and F-score are ill-defined and being set to 0.0 in labels with no predicted samples. Use `zero_division` parameter to control this behavior.\n",
            "  _warn_prf(average, modifier, msg_start, len(result))\n",
            "/usr/local/lib/python3.10/dist-packages/sklearn/metrics/_classification.py:1344: UndefinedMetricWarning: Precision and F-score are ill-defined and being set to 0.0 in labels with no predicted samples. Use `zero_division` parameter to control this behavior.\n",
            "  _warn_prf(average, modifier, msg_start, len(result))\n",
            "/usr/local/lib/python3.10/dist-packages/sklearn/metrics/_classification.py:1344: UndefinedMetricWarning: Precision and F-score are ill-defined and being set to 0.0 in labels with no predicted samples. Use `zero_division` parameter to control this behavior.\n",
            "  _warn_prf(average, modifier, msg_start, len(result))\n",
            "/usr/local/lib/python3.10/dist-packages/sklearn/metrics/_classification.py:1344: UndefinedMetricWarning: Precision and F-score are ill-defined and being set to 0.0 in labels with no predicted samples. Use `zero_division` parameter to control this behavior.\n",
            "  _warn_prf(average, modifier, msg_start, len(result))\n",
            "/usr/local/lib/python3.10/dist-packages/sklearn/metrics/_classification.py:1344: UndefinedMetricWarning: Precision and F-score are ill-defined and being set to 0.0 in labels with no predicted samples. Use `zero_division` parameter to control this behavior.\n",
            "  _warn_prf(average, modifier, msg_start, len(result))\n"
          ]
        }
      ]
    },
    {
      "cell_type": "code",
      "source": [
        "import matplotlib.pyplot as plt\n",
        "import seaborn as sns\n",
        "\n",
        "# Plotting confusion matrix for Random Forest Classifier\n",
        "plt.figure(figsize=(8, 6))\n",
        "sns.heatmap(rf_conf_matrix, annot=True, fmt=\"d\", cmap=\"Blues\")\n",
        "plt.title(\"Confusion Matrix - Random Forest Classifier\")\n",
        "plt.xlabel(\"Predicted\")\n",
        "plt.ylabel(\"Actual\")\n",
        "plt.show()\n"
      ],
      "metadata": {
        "colab": {
          "base_uri": "https://localhost:8080/",
          "height": 564
        },
        "id": "VamgD0ZgFH3u",
        "outputId": "3f6afbb4-093f-494a-a2b2-244f3a4990d6"
      },
      "execution_count": null,
      "outputs": [
        {
          "output_type": "display_data",
          "data": {
            "text/plain": [
              "<Figure size 800x600 with 2 Axes>"
            ],
            "image/png": "[encoded data removed]"
          },
          "metadata": {}
        }
      ]
    },
    {
      "cell_type": "code",
      "source": [
        "# Plotting confusion matrix for AdaBoost Classifier\n",
        "plt.figure(figsize=(8, 6))\n",
        "sns.heatmap(ab_conf_matrix, annot=True, fmt=\"d\", cmap=\"Blues\")\n",
        "plt.title(\"Confusion Matrix - AdaBoost Classifier\")\n",
        "plt.xlabel(\"Predicted\")\n",
        "plt.ylabel(\"Actual\")\n",
        "plt.show()"
      ],
      "metadata": {
        "colab": {
          "base_uri": "https://localhost:8080/",
          "height": 564
        },
        "id": "1vYCXPiL4RaF",
        "outputId": "eba53464-630e-49f8-b319-cbcb4c051cc3"
      },
      "execution_count": null,
      "outputs": [
        {
          "output_type": "display_data",
          "data": {
            "text/plain": [
              "<Figure size 800x600 with 2 Axes>"
            ],
            "image/png": "[encoded data removed]"
          },
          "metadata": {}
        }
      ]
    },
    {
      "cell_type": "code",
      "source": [
        "# Plotting confusion matrix for Stacking Classifier\n",
        "plt.figure(figsize=(8, 6))\n",
        "sns.heatmap(stacking_conf_matrix, annot=True, fmt=\"d\", cmap=\"Blues\")\n",
        "plt.title(\"Confusion Matrix - Stacking Classifier\")\n",
        "plt.xlabel(\"Predicted\")\n",
        "plt.ylabel(\"Actual\")\n",
        "plt.show()\n"
      ],
      "metadata": {
        "colab": {
          "base_uri": "https://localhost:8080/",
          "height": 564
        },
        "id": "zmnu8-w6GEa7",
        "outputId": "bf87c232-54e7-4ace-fd4d-4bb863ad9e6d"
      },
      "execution_count": null,
      "outputs": [
        {
          "output_type": "display_data",
          "data": {
            "text/plain": [
              "<Figure size 800x600 with 2 Axes>"
            ],
            "image/png": "[encoded data removed]"
          },
          "metadata": {}
        }
      ]
    },
    {
      "cell_type": "code",
      "source": [
        "from sklearn.metrics import auc\n",
        "import numpy as np"
      ],
      "metadata": {
        "id": "7Fj8v5Rl50BN"
      },
      "execution_count": null,
      "outputs": []
    },
    {
      "cell_type": "code",
      "source": [
        "#Roc curve in multiclass is difficult to plot\n",
        "#so i use to plot confusion matrix"
      ],
      "metadata": {
        "id": "83GOPF5lERtp"
      },
      "execution_count": null,
      "outputs": []
    },
    {
      "cell_type": "markdown",
      "metadata": {
        "id": "9oSCfKHIwMge"
      },
      "source": [
        "**Analysis**"
      ]
    },
    {
      "cell_type": "markdown",
      "metadata": {
        "id": "y92fdnV7wMge"
      },
      "source": [
        "you would need to compare the performance metrics of the individual models with the ensemble methods. Discuss the strengths and weaknesses of each approach based on these metrics. Explore potential improvements or modifications to the ensemble methods based on your observations."
      ]
    },
    {
      "cell_type": "markdown",
      "metadata": {
        "id": "S1N1mqJRwMge"
      },
      "source": [
        "Detailed Analysis"
      ]
    },
    {
      "cell_type": "markdown",
      "metadata": {
        "id": "Mtzhn4XHwMge"
      },
      "source": [
        "The goal of Airbnb’s marketing team in this exercise was to improve its users’ performance so it\n",
        "could reap the benefits of ongoing host and renter fees. If the company’s hosts were not happy,\n",
        "they were not likely to continue listing their properties through Airbnb, and in a competitive and\n",
        "burgeoning marketplace, such attrition could be devastating.\n",
        "Answer the following question:\n",
        "1. What could the Airbnb marketing team offer to improve its users’ experience? Should it\n",
        "rank properties it suggested to users based on some metric such as review sentiment?\n",
        "How would review sentiment compare to summary-rating value in terms of its ability to\n",
        "predict revenues?\n",
        "2. Given what we know about the performance of properties in Miami and Paris, did Airbnb\n",
        "need a region-specific strategy? Could the company suggest optimal pricing for hosts,"
      ]
    },
    {
      "cell_type": "markdown",
      "source": [
        "#Report"
      ],
      "metadata": {
        "id": "9d8ukLUz_GnR"
      }
    },
    {
      "cell_type": "code",
      "source": [
        "'''\n",
        "\n",
        "Airbnb, as the dataset in question, provides valuable insights into the performance of various models and ensemble methods for predicting user satisfaction and property revenue.\n",
        "Through the analysis of performance metrics such as accuracy, precision, recall, and F1-score, we can assess the effectiveness of different machine learning approaches in this context.\n",
        "\n",
        "1. Random Forest:\n",
        "    Strengths: Robust to overfitting, can handle high-dimensional data, and resistant to noise.\n",
        "   Weaknesses: Achieving low accuracy (0.5) suggests room for improvement, possibly due to inadequate hyperparameter tuning or feature engineering.\n",
        "   Potential Improvements: Optimize hyperparameters and refine feature selection techniques to enhance model performance.\n",
        "\n",
        "2. AdaBoost:\n",
        "    Strengths: Effective in combining weak learners to create a strong classifier.\n",
        "    Weaknesses: Low accuracy and F1-score (0.357 and 0.343, respectively) indicate suboptimal performance.\n",
        "   Potential Improvements: Analyze misclassified instances, adjust learning rate, and experiment with different numbers of estimators.\n",
        "\n",
        "3. Support Vector Classifier (SVC):\n",
        "    Strengths: Effective in high-dimensional spaces and versatile with different kernel functions.\n",
        "    Weaknesses: Low accuracy (0.5) suggests inadequate separation of classes in the dataset.\n",
        "    Potential Improvements: Experiment with different kernel functions and tune hyperparameters for better performance.\n",
        "\n",
        "4. Stacking (Ensemble Method):\n",
        "    Strengths: Combines predictions of multiple models for improved performance.\n",
        "    Weaknesses: While achieving the highest accuracy (0.571), performance still needs improvement.\n",
        "    Potential Improvements: Explore different base models, adjust meta-classifier, and consider incorporating additional features for enhanced performance.\n",
        "\n",
        "Improving user experience in Airbnb could involve implementing personalized ranking systems based on factors such as review sentiment, property ratings, location,\n",
        "amenities, and pricing. A region-specific strategy may be necessary considering performance variations between locations like Miami and Paris. Additionally, offering\n",
        "optimal pricing suggestions to hosts based on machine learning insights can maximize revenues while ensuring competitiveness in the market.\n",
        "\n",
        "'''"
      ],
      "metadata": {
        "id": "bfGOKpT8-RrN"
      },
      "execution_count": null,
      "outputs": []
    },
    {
      "cell_type": "markdown",
      "source": [
        "'''Improving user experience in Airbnb could involve implementing personalized ranking systems based on factors such as review sentiment, property ratings, location,\n",
        "amenities, and pricing. A region-specific strategy may be necessary considering performance variations between locations like Miami and Paris. Additionally, offering\n",
        "optimal pricing suggestions to hosts based on machine learning insights can maximize revenues while ensuring competitiveness in the market. '''"
      ],
      "metadata": {
        "id": "QQh5kfTN--RS"
      }
    },
    {
      "cell_type": "markdown",
      "source": [
        "Yes,\n",
        " Airbnb would benefit from a region-specific strategy considering performance variations between Miami and Paris. Tailoring offerings and pricing strategies to\n",
        " each region's unique characteristics can enhance user satisfaction and host revenue. By leveraging data-driven insights, Airbnb can suggest optimal pricing for hosts\n",
        " based on factors like property features, location, and market dynamics."
      ],
      "metadata": {
        "id": "7HlsckNA_C-w"
      }
    }
  ],
  "metadata": {
    "kernelspec": {
      "display_name": "pyspark_env",
      "language": "python",
      "name": "python3"
    },
    "language_info": {
      "codemirror_mode": {
        "name": "ipython",
        "version": 3
      },
      "file_extension": ".py",
      "mimetype": "text/x-python",
      "name": "python",
      "nbconvert_exporter": "python",
      "pygments_lexer": "ipython3",
      "version": "3.11.5"
    },
    "colab": {
      "provenance": []
    }
  },
  "nbformat": 4,
  "nbformat_minor": 0
}